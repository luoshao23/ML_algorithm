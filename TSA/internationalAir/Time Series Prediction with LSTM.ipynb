{
 "cells": [
  {
   "cell_type": "code",
   "execution_count": 4,
   "metadata": {},
   "outputs": [],
   "source": [
    "import pandas as pd\n",
    "import matplotlib.pyplot as plt\n",
    "%matplotlib inline\n"
   ]
  },
  {
   "cell_type": "code",
   "execution_count": 5,
   "metadata": {
    "scrolled": true
   },
   "outputs": [
    {
     "data": {
      "text/plain": [
       "[<matplotlib.lines.Line2D at 0x7f26176a9950>]"
      ]
     },
     "execution_count": 5,
     "metadata": {},
     "output_type": "execute_result"
    },
    {
     "data": {
      "image/png": "[encoded data removed]",
      "text/plain": [
       "<matplotlib.figure.Figure at 0x7f261775e7d0>"
      ]
     },
     "metadata": {},
     "output_type": "display_data"
    }
   ],
   "source": [
    "data = pd.read_csv('international-airline-passengers.csv', usecols=[1], header=0)\n",
    "data.head()\n",
    "plt.plot(data)"
   ]
  },
  {
   "cell_type": "code",
   "execution_count": 9,
   "metadata": {},
   "outputs": [],
   "source": [
    "import numpy as np\n",
    "import matplotlib.pyplot as plt\n",
    "import pandas\n",
    "import math\n",
    "from keras.models import Sequential\n",
    "from keras.layers import Dense\n",
    "from keras.layers import LSTM\n",
    "from sklearn.preprocessing import MinMaxScaler\n",
    "from sklearn.metrics import mean_squared_error"
   ]
  },
  {
   "cell_type": "code",
   "execution_count": 10,
   "metadata": {},
   "outputs": [],
   "source": [
    "np.random.seed(23)"
   ]
  },
  {
   "cell_type": "code",
   "execution_count": 11,
   "metadata": {
    "collapsed": true
   },
   "outputs": [],
   "source": [
    "data = data.values.astype('float')"
   ]
  },
  {
   "cell_type": "code",
   "execution_count": 12,
   "metadata": {},
   "outputs": [
    {
     "data": {
      "text/plain": [
       "array([[ 0.01544402],\n",
       "       [ 0.02702703],\n",
       "       [ 0.05405405],\n",
       "       [ 0.04826255],\n",
       "       [ 0.03281853],\n",
       "       [ 0.05984556],\n",
       "       [ 0.08494208],\n",
       "       [ 0.08494208],\n",
       "       [ 0.06177606],\n",
       "       [ 0.02895753]])"
      ]
     },
     "execution_count": 12,
     "metadata": {},
     "output_type": "execute_result"
    }
   ],
   "source": [
    "scaler = MinMaxScaler(feature_range=(0, 1))\n",
    "dataset = scaler.fit_transform(data)\n",
    "dataset[:10]"
   ]
  },
  {
   "cell_type": "code",
   "execution_count": 13,
   "metadata": {},
   "outputs": [
    {
     "name": "stdout",
     "output_type": "stream",
     "text": [
      "(96, 48)\n"
     ]
    }
   ],
   "source": [
    "# split into train and test sets\n",
    "train_size = int(len(dataset) * 0.67)\n",
    "test_size = len(dataset) - train_size\n",
    "train, test = dataset[0:train_size,:], dataset[train_size:len(dataset),:]\n",
    "print(len(train), len(test))"
   ]
  },
  {
   "cell_type": "code",
   "execution_count": 14,
   "metadata": {
    "collapsed": true
   },
   "outputs": [],
   "source": [
    "# convert an array of values into a dataset matrix\n",
    "def create_dataset(dataset, look_back=1):\n",
    "    dataX, dataY = [], []\n",
    "    for i in range(len(dataset)-look_back-1):\n",
    "        a = dataset[i:(i+look_back), 0]\n",
    "        dataX.append(a)\n",
    "        dataY.append(dataset[i + look_back, 0])\n",
    "    return numpy.array(dataX), numpy.array(dataY)"
   ]
  },
  {
   "cell_type": "code",
   "execution_count": 22,
   "metadata": {},
   "outputs": [
    {
     "data": {
      "text/plain": [
       "(92, 3)"
      ]
     },
     "execution_count": 22,
     "metadata": {},
     "output_type": "execute_result"
    }
   ],
   "source": [
    "trainX.shape"
   ]
  },
  {
   "cell_type": "code",
   "execution_count": 36,
   "metadata": {},
   "outputs": [],
   "source": [
    "# reshape into X=t and Y=t+1\n",
    "look_back = 1\n",
    "feature_num = 1\n",
    "trainX, trainY = create_dataset(train, look_back)\n",
    "testX, testY = create_dataset(test, look_back)\n",
    "# reshape input to be [samples, time steps, features]\n",
    "trainX = numpy.reshape(trainX, (trainX.shape[0], look_back, feature_num))\n",
    "testX = numpy.reshape(testX, (testX.shape[0], look_back, feature_num))"
   ]
  },
  {
   "cell_type": "code",
   "execution_count": 37,
   "metadata": {},
   "outputs": [
    {
     "name": "stdout",
     "output_type": "stream",
     "text": [
      "Epoch 1/50\n",
      "0s - loss: 0.0415\n",
      "Epoch 2/50\n",
      "0s - loss: 0.0191\n",
      "Epoch 3/50\n",
      "0s - loss: 0.0149\n",
      "Epoch 4/50\n",
      "0s - loss: 0.0135\n",
      "Epoch 5/50\n",
      "0s - loss: 0.0124\n",
      "Epoch 6/50\n",
      "0s - loss: 0.0112\n",
      "Epoch 7/50\n",
      "0s - loss: 0.0100\n",
      "Epoch 8/50\n",
      "0s - loss: 0.0089\n",
      "Epoch 9/50\n",
      "0s - loss: 0.0079\n",
      "Epoch 10/50\n",
      "0s - loss: 0.0070\n",
      "Epoch 11/50\n",
      "0s - loss: 0.0060\n",
      "Epoch 12/50\n",
      "0s - loss: 0.0051\n",
      "Epoch 13/50\n",
      "0s - loss: 0.0045\n",
      "Epoch 14/50\n",
      "0s - loss: 0.0038\n",
      "Epoch 15/50\n",
      "0s - loss: 0.0033\n",
      "Epoch 16/50\n",
      "0s - loss: 0.0029\n",
      "Epoch 17/50\n",
      "0s - loss: 0.0027\n",
      "Epoch 18/50\n",
      "0s - loss: 0.0024\n",
      "Epoch 19/50\n",
      "0s - loss: 0.0023\n",
      "Epoch 20/50\n",
      "0s - loss: 0.0022\n",
      "Epoch 21/50\n",
      "0s - loss: 0.0021\n",
      "Epoch 22/50\n",
      "0s - loss: 0.0021\n",
      "Epoch 23/50\n",
      "0s - loss: 0.0021\n",
      "Epoch 24/50\n",
      "0s - loss: 0.0020\n",
      "Epoch 25/50\n",
      "0s - loss: 0.0021\n",
      "Epoch 26/50\n",
      "0s - loss: 0.0021\n",
      "Epoch 27/50\n",
      "0s - loss: 0.0020\n",
      "Epoch 28/50\n",
      "0s - loss: 0.0021\n",
      "Epoch 29/50\n",
      "0s - loss: 0.0021\n",
      "Epoch 30/50\n",
      "0s - loss: 0.0020\n",
      "Epoch 31/50\n",
      "0s - loss: 0.0020\n",
      "Epoch 32/50\n",
      "0s - loss: 0.0021\n",
      "Epoch 33/50\n",
      "0s - loss: 0.0020\n",
      "Epoch 34/50\n",
      "0s - loss: 0.0020\n",
      "Epoch 35/50\n",
      "0s - loss: 0.0021\n",
      "Epoch 36/50\n",
      "0s - loss: 0.0020\n",
      "Epoch 37/50\n",
      "0s - loss: 0.0020\n",
      "Epoch 38/50\n",
      "0s - loss: 0.0021\n",
      "Epoch 39/50\n",
      "0s - loss: 0.0021\n",
      "Epoch 40/50\n",
      "0s - loss: 0.0020\n",
      "Epoch 41/50\n",
      "0s - loss: 0.0021\n",
      "Epoch 42/50\n",
      "0s - loss: 0.0020\n",
      "Epoch 43/50\n",
      "0s - loss: 0.0020\n",
      "Epoch 44/50\n",
      "0s - loss: 0.0020\n",
      "Epoch 45/50\n",
      "0s - loss: 0.0021\n",
      "Epoch 46/50\n",
      "0s - loss: 0.0021\n",
      "Epoch 47/50\n",
      "0s - loss: 0.0020\n",
      "Epoch 48/50\n",
      "0s - loss: 0.0021\n",
      "Epoch 49/50\n",
      "0s - loss: 0.0021\n",
      "Epoch 50/50\n",
      "0s - loss: 0.0020\n"
     ]
    },
    {
     "data": {
      "text/plain": [
       "<keras.callbacks.History at 0x7f25f6d892d0>"
      ]
     },
     "execution_count": 37,
     "metadata": {},
     "output_type": "execute_result"
    }
   ],
   "source": [
    "# create and fit the LSTM network\n",
    "model = Sequential()\n",
    "model.add(LSTM(8, input_shape=( look_back, trainX.shape[2])))\n",
    "model.add(Dense(1))\n",
    "model.compile(loss='mean_squared_error', optimizer='adam')\n",
    "model.fit(trainX, trainY, epochs=50, batch_size=1, verbose=2)"
   ]
  },
  {
   "cell_type": "code",
   "execution_count": 38,
   "metadata": {},
   "outputs": [
    {
     "name": "stdout",
     "output_type": "stream",
     "text": [
      "Train Score: 23.12 RMSE\n",
      "Test Score: 49.13 RMSE\n"
     ]
    }
   ],
   "source": [
    "# make predictions\n",
    "trainPredict = model.predict(trainX)\n",
    "testPredict = model.predict(testX)\n",
    "# invert predictions\n",
    "trainPredict = scaler.inverse_transform(trainPredict)\n",
    "trainY = scaler.inverse_transform([trainY])\n",
    "testPredict = scaler.inverse_transform(testPredict)\n",
    "testY = scaler.inverse_transform([testY])\n",
    "# calculate root mean squared error\n",
    "trainScore = math.sqrt(mean_squared_error(trainY[0], trainPredict[:,0]))\n",
    "print('Train Score: %.2f RMSE' % (trainScore))\n",
    "testScore = math.sqrt(mean_squared_error(testY[0], testPredict[:,0]))\n",
    "print('Test Score: %.2f RMSE' % (testScore))"
   ]
  },
  {
   "cell_type": "code",
   "execution_count": 39,
   "metadata": {
    "scrolled": true
   },
   "outputs": [
    {
     "data": {
      "image/png": "[encoded data removed]",
      "text/plain": [
       "<matplotlib.figure.Figure at 0x7f25f6431b10>"
      ]
     },
     "metadata": {},
     "output_type": "display_data"
    }
   ],
   "source": [
    "# shift train predictions for plotting\n",
    "trainPredictPlot = numpy.empty_like(dataset)\n",
    "trainPredictPlot[:, :] = numpy.nan\n",
    "trainPredictPlot[look_back:len(trainPredict)+look_back, :] = trainPredict\n",
    "# shift test predictions for plotting\n",
    "testPredictPlot = numpy.empty_like(dataset)\n",
    "testPredictPlot[:, :] = numpy.nan\n",
    "testPredictPlot[len(trainPredict)+(look_back*2)+1:len(dataset)-1, :] = testPredict\n",
    "# plot baseline and predictions\n",
    "plt.plot(scaler.inverse_transform(dataset))\n",
    "plt.plot(trainPredictPlot)\n",
    "plt.plot(testPredictPlot)\n",
    "plt.show()"
   ]
  },
  {
   "cell_type": "code",
   "execution_count": 20,
   "metadata": {},
   "outputs": [
    {
     "data": {
      "text/plain": [
       "(144, 1)"
      ]
     },
     "execution_count": 20,
     "metadata": {},
     "output_type": "execute_result"
    }
   ],
   "source": [
    "trainPredictPlot.shape"
   ]
  }
 ],
 "metadata": {
  "kernelspec": {
   "display_name": "Python 2",
   "language": "python",
   "name": "python2"
  },
  "language_info": {
   "codemirror_mode": {
    "name": "ipython",
    "version": 2
   },
   "file_extension": ".py",
   "mimetype": "text/x-python",
   "name": "python",
   "nbconvert_exporter": "python",
   "pygments_lexer": "ipython2",
   "version": "2.7.13"
  }
 },
 "nbformat": 4,
 "nbformat_minor": 2
}
