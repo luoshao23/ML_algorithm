{
 "cells": [
  {
   "cell_type": "code",
   "execution_count": 18,
   "metadata": {},
   "outputs": [],
   "source": [
    "import tensorflow as tf\n",
    "from tensorflow import keras\n",
    "from tensorflow.keras import layers\n",
    "from tensorflow.keras import Model"
   ]
  },
  {
   "cell_type": "code",
   "execution_count": 23,
   "metadata": {},
   "outputs": [],
   "source": [
    "import numpy as np"
   ]
  },
  {
   "cell_type": "code",
   "execution_count": 8,
   "metadata": {},
   "outputs": [],
   "source": [
    "sentences = [ \"i like dog\", \"i love coffee\", \"i hate milk\"]"
   ]
  },
  {
   "cell_type": "code",
   "execution_count": 11,
   "metadata": {},
   "outputs": [],
   "source": [
    "word_list = \" \".join(sentences).split()\n",
    "word_list = list(set(word_list))\n",
    "word_dict = {w: i for i, w in enumerate(word_list)}\n",
    "number_dict = {i: w for i, w in enumerate(word_list)}\n",
    "n_class = len(word_dict) # number of Vocabulary\n",
    "n_embedding = 5"
   ]
  },
  {
   "cell_type": "code",
   "execution_count": 10,
   "metadata": {},
   "outputs": [],
   "source": [
    "# NNLM Parameter\n",
    "n_step = 2 # number of steps ['i like', 'i love', 'i hate']\n",
    "n_hidden = 2 # number of hidden units"
   ]
  },
  {
   "cell_type": "code",
   "execution_count": 85,
   "metadata": {},
   "outputs": [],
   "source": [
    "def make_batch(sentences):\n",
    "    input_batch = []\n",
    "    target_batch = []\n",
    "\n",
    "    for sen in sentences:\n",
    "        word = sen.split()\n",
    "        input_ = [word_dict[n] for n in word[:-1]]\n",
    "        target = word_dict[word[-1]]\n",
    "\n",
    "        input_batch.append(input_)\n",
    "        target_batch.append(target)\n",
    "\n",
    "    return np.asarray(input_batch), np.asarray(target_batch)"
   ]
  },
  {
   "cell_type": "code",
   "execution_count": 70,
   "metadata": {},
   "outputs": [],
   "source": [
    "## for professional\n",
    "\n",
    "class MyModel(Model):\n",
    "    \n",
    "    def __init__(self):\n",
    "        super(MyModel, self).__init__()\n",
    "        self.embedding = layers.Embedding(n_class, n_embedding, input_length=n_step)\n",
    "        self.reshape = layers.Reshape((n_step*n_embedding,))\n",
    "        self.d1 = layers.Dense(n_hidden, activation='tanh')\n",
    "        self.d2 = layers.Dense(n_class, use_bias=False)\n",
    "        self.d3 = layers.Dense(n_class)\n",
    "        self.add = layers.Add()\n",
    "    \n",
    "    def call(self, x):\n",
    "        xm = self.embedding(x)\n",
    "        xm = self.reshape(xm)\n",
    "        \n",
    "        o1 = self.d1(xm)\n",
    "        o1 = self.d2(o1)\n",
    "        o2 = self.d3(xm)\n",
    "        \n",
    "        return self.add([o1, o2])"
   ]
  },
  {
   "cell_type": "code",
   "execution_count": 90,
   "metadata": {},
   "outputs": [],
   "source": [
    "model = MyModel()\n",
    "loss_object = tf.keras.losses.SparseCategoricalCrossentropy(from_logits=True)\n",
    "\n",
    "optimizer = tf.keras.optimizers.Adam()"
   ]
  },
  {
   "cell_type": "code",
   "execution_count": 91,
   "metadata": {},
   "outputs": [],
   "source": [
    "train_loss = tf.keras.metrics.Mean(name='train_loss')\n",
    "train_accuracy = tf.keras.metrics.SparseCategoricalAccuracy(name='train_accuracy')\n",
    "\n",
    "test_loss = tf.keras.metrics.Mean(name='test_loss')\n",
    "test_accuracy = tf.keras.metrics.SparseCategoricalAccuracy(name='test_accuracy')"
   ]
  },
  {
   "cell_type": "code",
   "execution_count": 93,
   "metadata": {},
   "outputs": [],
   "source": [
    "@tf.function\n",
    "def train_step(x, y):\n",
    "    with tf.GradientTape() as tape:\n",
    "        predictions = model(x)\n",
    "        loss = loss_object(y, predictions)\n",
    "    gradients = tape.gradient(loss, model.trainable_variables)\n",
    "    optimizer.apply_gradients(zip(gradients, model.trainable_variables))\n",
    "\n",
    "    train_loss(loss)\n",
    "    train_accuracy(y, predictions)"
   ]
  },
  {
   "cell_type": "code",
   "execution_count": 94,
   "metadata": {},
   "outputs": [],
   "source": [
    "@tf.function\n",
    "def test_step(x, y):\n",
    "    predictions = model(x)\n",
    "    t_loss = loss_object(y, predictions)\n",
    "\n",
    "    test_loss(t_loss)\n",
    "    test_accuracy(y, predictions)"
   ]
  },
  {
   "cell_type": "code",
   "execution_count": 98,
   "metadata": {},
   "outputs": [
    {
     "name": "stdout",
     "output_type": "stream",
     "text": [
      "Epoch 1, Loss: 0.0205826535820961, Accuracy: 100.0, Test Loss: 0.02053370140492916, Test Accuracy: 100.0\n",
      "Epoch 101, Loss: 0.016421500593423843, Accuracy: 100.0, Test Loss: 0.016386309638619423, Test Accuracy: 100.0\n",
      "Epoch 201, Loss: 0.01338109653443098, Accuracy: 100.0, Test Loss: 0.013354960829019547, Test Accuracy: 100.0\n",
      "Epoch 301, Loss: 0.011092644184827805, Accuracy: 100.0, Test Loss: 0.011072690598666668, Test Accuracy: 100.0\n",
      "Epoch 401, Loss: 0.009327310137450695, Accuracy: 100.0, Test Loss: 0.00931168720126152, Test Accuracy: 100.0\n"
     ]
    }
   ],
   "source": [
    "EPOCHS = 500\n",
    "\n",
    "for epoch in range(EPOCHS):\n",
    "    # 在下一个epoch开始时，重置评估指标\n",
    "    train_loss.reset_states()\n",
    "    train_accuracy.reset_states()\n",
    "    test_loss.reset_states()\n",
    "    test_accuracy.reset_states()\n",
    "\n",
    "    train_step(input_batch, target_batch)\n",
    "\n",
    "    test_step(input_batch, target_batch)\n",
    "    if epoch % 100 == 0:\n",
    "        template = 'Epoch {}, Loss: {}, Accuracy: {}, Test Loss: {}, Test Accuracy: {}'\n",
    "        print (template.format(epoch+1,\n",
    "                             train_loss.result(),\n",
    "                             train_accuracy.result()*100,\n",
    "                             test_loss.result(),\n",
    "                             test_accuracy.result()*100))\n",
    "\n",
    "## end for professional"
   ]
  },
  {
   "cell_type": "code",
   "execution_count": 67,
   "metadata": {},
   "outputs": [],
   "source": [
    "## for beginners\n",
    "\n",
    "x = layers.Input((n_step,))\n",
    "xm = layers.Embedding(n_class, n_embedding, input_length=n_step)(x)\n",
    "xm = layers.Reshape((n_step*n_embedding, ))(xm)\n",
    "\n",
    "o1 = layers.Dense(n_hidden, activation='tanh')(xm)\n",
    "o1 = layers.Dense(n_class, use_bias=False)(o1)\n",
    "\n",
    "o2 = layers.Dense(n_class)(xm)\n",
    "\n",
    "y = layers.add([o1, o2])\n",
    "\n",
    "model = Model(inputs=x, outputs=y)\n",
    "\n",
    "model.compile(optimizer='adam',\n",
    "              loss=tf.keras.losses.SparseCategoricalCrossentropy(from_logits=True),\n",
    "              metrics=['accuracy'])\n",
    "\n",
    "input_batch, target_batch = make_batch(sentences)\n",
    "\n",
    "model.summary()\n",
    "\n",
    "model.fit(np.asarray(input_batch), np.asarray(target_batch), epochs=500, verbose=2)\n",
    "\n",
    "pred = model.predict(input_batch)\n",
    "\n",
    "print([sen.split()[:2] for sen in sentences], '=>', [word_list[n] for n in np.argmax(pred,axis=1)])\n",
    "\n",
    "## embedding matrix\n",
    "print(model.layers[1].get_weights()[0].shape)\n",
    "\n",
    "## End for beginners"
   ]
  },
  {
   "cell_type": "code",
   "execution_count": null,
   "metadata": {},
   "outputs": [],
   "source": []
  }
 ],
 "metadata": {
  "kernelspec": {
   "display_name": "Python 3",
   "language": "python",
   "name": "python3"
  },
  "language_info": {
   "codemirror_mode": {
    "name": "ipython",
    "version": 3
   },
   "file_extension": ".py",
   "mimetype": "text/x-python",
   "name": "python",
   "nbconvert_exporter": "python",
   "pygments_lexer": "ipython3",
   "version": "3.6.8"
  }
 },
 "nbformat": 4,
 "nbformat_minor": 2
}
