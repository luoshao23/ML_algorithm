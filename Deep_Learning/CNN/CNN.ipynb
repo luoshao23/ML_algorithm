{
 "cells": [
  {
   "cell_type": "code",
   "execution_count": 1,
   "metadata": {
    "collapsed": true
   },
   "outputs": [
    {
     "name": "stderr",
     "output_type": "stream",
     "text": [
      "/home/luo.sz/anaconda3/lib/python3.6/site-packages/h5py/__init__.py:36: FutureWarning: Conversion of the second argument of issubdtype from `float` to `np.floating` is deprecated. In future, it will be treated as `np.float64 == np.dtype(float).type`.\n",
      "  from ._conv import register_converters as _register_converters\n",
      "Using TensorFlow backend.\n"
     ]
    }
   ],
   "source": [
    "import sys\n",
    "sys.path.append('..')\n",
    "\n",
    "from SR_module import *\n",
    "from keras.applications.vgg16 import VGG16\n",
    "# from keras.applications.vgg19 import VGG19\n",
    "# from keras.applications.inception_v3 import InceptionV3\n",
    "from keras.preprocessing import image\n",
    "from keras.applications.vgg16 import preprocess_input\n",
    "from keras.models import model_from_json\n",
    "from keras.models import Model\n",
    "import numpy as np\n",
    "import pandas as pd\n",
    "import matplotlib.pyplot as plt\n",
    "from scipy.spatial.distance import cosine, cdist\n",
    "from sklearn.decomposition import PCA\n",
    "import os.path\n",
    "import os\n",
    "\n",
    "%matplotlib inline"
   ]
  },
  {
   "cell_type": "code",
   "execution_count": 2,
   "metadata": {},
   "outputs": [
    {
     "name": "stdout",
     "output_type": "stream",
     "text": [
      "/home/luo.sz/beLLE/data/mst\n"
     ]
    }
   ],
   "source": [
    "ROOT = os.environ.get('DATA', os.path.join(\n",
    "    os.path.dirname(os.path.abspath('..')), 'data', 'mst'))\n",
    "print(ROOT)"
   ]
  },
  {
   "cell_type": "code",
   "execution_count": 3,
   "metadata": {
    "collapsed": false
   },
   "outputs": [],
   "source": [
    "# base_model = VGG16(weights='imagenet', include_top=False, pooling='max')\n",
    "# model = base_model\n",
    "multi = 1\n",
    "if multi:\n",
    "    net_name = 'BelleMultiNet_V2.json'\n",
    "    net_weights = 'BelleMultiNet_Weights_V2.h5'\n",
    "    layer = 10\n",
    "else:\n",
    "    net_name = 'BelleNet.json'\n",
    "    net_weights = 'BelleNet_Weights.h5'\n",
    "    layer = -3\n",
    "\n",
    "with open(os.path.join(ROOT, net_name)) as f:\n",
    "    strings = f.readline()\n",
    "base_model = model_from_json(strings)\n",
    "base_model.load_weights(os.path.join(ROOT, net_weights))\n",
    "# model = Model(inputs=base_model.input, outputs=base_model.get_layer(index=-3).output)\n",
    "model = Model(inputs=base_model.input, outputs=base_model.get_layer(index=layer).output)"
   ]
  },
  {
   "cell_type": "markdown",
   "metadata": {},
   "source": [
    "+ vcg16, notop\n",
    "+ vcg16, notop, pca=250, **GOOD**\n",
    "+ inception, top, NOT GOOD\n",
    "+ vcg19, notop,  NOT GOOD\n",
    "+ vcg19, notop, pca=250, NOT GOOD\n",
    "\n",
    "----\n",
    "+ pooling = avg, pca=250\n",
    "+ pooling = max, pca=250　√"
   ]
  },
  {
   "cell_type": "code",
   "execution_count": 4,
   "metadata": {},
   "outputs": [],
   "source": [
    "# top20summer = ['BTCS4V1DDD3AH8', 'BBLBSYA4DD1BH8', 'BBLBGAH2DD2BK8', 'BBLBVS37DA1BH8',\n",
    "#        'BBLBRP36DK1BK8', 'BBLBQJ33DD2BK8', 'BTCS4V1DDU1AH8', 'BBLBSN30DU1BK8',\n",
    "#        'BBLBQJ32DU3BK8', 'BXYS5W1DDB4BL8', 'BBLBPFB6DU2BL8', 'BBLBLAC2DD1BL8',\n",
    "#        'BBLBPT34DD2BH8', 'BBLBQL32DB1BL8', 'BBLBYCB5DK1AK8', 'BBLBSF32DD1BH8',\n",
    "#        'BY1S4N1DDG1BT8', 'BY1S4P1DDD3AH8', 'BBLBSND2DK1BK8', 'BBLBPKB8DP1BL8'],\n",
    "# top20spring = ['BEWS2N1DDA1AM8', 'B4PS2Y1DDU1AQ8', 'BY1S2D1DDA1AM8', 'BY1S2D1DDU1AM8',\n",
    "#        'B4PS2Y1DDD3AQ8', 'BBLBRT22DA1AM8', 'BBLBAN20DU1AM8', 'BBLBAZ20DU1AM8',\n",
    "#        'BGLS3A1DDU1AQ8', 'BBLBAP20DU2AM8', 'BY1S2H1DDD3AQ8', 'BGLS1Q1DDA2AM8',\n",
    "#        'BBLBRX02DU2AQ8', 'BGLS1T1DDU1AQ8', 'BBL3VDM1DU1AQ8', 'BY1S2B1DDU1AQ8',\n",
    "#        'BBLBDPC1DU1AM8', 'BGLS1Q1DDA1AM8', 'BY1S2U1DDK1AQ8', 'B4DS2J1DDU1AM8'],"
   ]
  },
  {
   "cell_type": "code",
   "execution_count": 13,
   "metadata": {},
   "outputs": [],
   "source": [
    "size_file = 'pmt_sku_ss_%d_allstore.csv'\n",
    "sku_file = 'pmt_size_ss_%d_allstore.csv'\n",
    "season = \"夏\"\n",
    "YEAR = 2017\n",
    "year_range = lambda x : (x * 10000 + 101, x * 10000 + 1303)\n",
    "target_params = {'sku_path': os.path.join(ROOT, size_file%YEAR), \n",
    "                 'size_path':os.path.join(ROOT, sku_file%YEAR),\n",
    " 'season': season, 'date': year_range(YEAR), 'top_qty': None, 'top_num': 20, 'use_default_cols': False}\n",
    "_, _, _, top_items_t = gen_df(**target_params)"
   ]
  },
  {
   "cell_type": "code",
   "execution_count": 14,
   "metadata": {},
   "outputs": [],
   "source": [
    "L_YEAR = YEAR - 1\n",
    "end_ = 1303 if season == '夏' else 1303\n",
    "year_range = lambda x : (x * 10000 + 101, x * 10000 + end_)\n",
    "\n",
    "target_params = {'sku_path': os.path.join(ROOT, size_file% L_YEAR), \n",
    "                 'size_path':os.path.join(ROOT, sku_file%L_YEAR),\n",
    " 'season': season, 'date': year_range(L_YEAR), 'top_qty': 1000, 'top_num': None, }\n",
    "_, _, _, top_items_b = gen_df(**target_params)"
   ]
  },
  {
   "cell_type": "code",
   "execution_count": 15,
   "metadata": {
    "collapsed": false
   },
   "outputs": [
    {
     "name": "stdout",
     "output_type": "stream",
     "text": [
      "20\n",
      "79\n"
     ]
    }
   ],
   "source": [
    "prop_name = '%dspring_m.csv' if season == \"春\" else '%dsummer_m.csv'\n",
    "# prop_name = '%dprop_BL.csv'\n",
    "\n",
    "properties = data_prop(os.path.join(ROOT, prop_name%(YEAR%100)), cols=False) \n",
    "properties_b = data_prop(os.path.join(ROOT, prop_name%(L_YEAR%100)), cols=False) \n",
    "\n",
    "# img_root = '/home/luo.sz/beLLE/data/imgs/'\n",
    "img_root = '/home/luo.sz/beLLE/data/ygimgs/'\n",
    "base_list = os.listdir(img_root)\n",
    "\n",
    "file_list = ['%s%s.jpg'%(img_root, f) for f in properties.index.intersection(top_items_t) if '%s.jpg'%f in base_list]\n",
    "file_list_b = ['%s%s.jpg'%(img_root, f) for f in properties_b.index.intersection(top_items_b) if '%s.jpg'%f in base_list]\n",
    "print(len(file_list))\n",
    "print(len(file_list_b))"
   ]
  },
  {
   "cell_type": "code",
   "execution_count": 16,
   "metadata": {
    "collapsed": false
   },
   "outputs": [],
   "source": [
    "features = gen_feature(model, file_list)\n",
    "features_b = gen_feature(model, file_list_b)"
   ]
  },
  {
   "cell_type": "code",
   "execution_count": 17,
   "metadata": {
    "collapsed": true
   },
   "outputs": [],
   "source": [
    "use_pca = 0\n",
    "kth = 3\n",
    "## PCA to reduce the dimension\n",
    "if use_pca:\n",
    "    pca = PCA(n_components=50)\n",
    "    pca = pca.fit_transform(features)\n",
    "    pca_b = pca.transform(features_b)\n",
    "    dist = cdist(pca, pca_b, 'cosine')\n",
    "else:\n",
    "    dist = cdist(features, features_b, 'cosine') # euclidean\n",
    "\n",
    "min_threshold = dist.min(1) <=0.7\n",
    "\n",
    "most_similar = dist.argpartition(list(range(1, kth+1)), 1)[:,:kth]"
   ]
  },
  {
   "cell_type": "code",
   "execution_count": null,
   "metadata": {
    "collapsed": false,
    "scrolled": true
   },
   "outputs": [],
   "source": [
    "pairs = {}\n",
    "for i, (chosens, min_th) in enumerate(zip(most_similar, min_threshold)):\n",
    "\n",
    "    print('===')\n",
    "    if not min_th:\n",
    "        print('No similar item found for the following')\n",
    "    \n",
    "    show_img(file_list[i], [file_list_b[chosen] for chosen in chosens])\n",
    "    plt.show()\n",
    "     \n",
    "    index = os.path.splitext(os.path.basename(file_list[i]))[0]\n",
    "    values = [os.path.splitext(os.path.basename(file_list_b[chosen]))[0] for chosen in chosens]\n",
    "    pairs[index] = values\n",
    "    print(index, values)\n",
    "            \n",
    "    "
   ]
  },
  {
   "cell_type": "code",
   "execution_count": 19,
   "metadata": {},
   "outputs": [
    {
     "name": "stdout",
     "output_type": "stream",
     "text": [
      "summer_pair_ST17.pkl\n"
     ]
    }
   ],
   "source": [
    "import pickle\n",
    "brand = 'ST17'\n",
    "out_name = f'summer_pair_{brand}.pkl' if season == '夏' else f'spring_pair_{brand}.pkl'\n",
    "print(out_name)\n",
    "with open(os.path.join(ROOT, out_name), 'wb') as f:\n",
    "    pickle.dump(pairs, f)"
   ]
  },
  {
   "cell_type": "code",
   "execution_count": 37,
   "metadata": {
    "collapsed": false
   },
   "outputs": [],
   "source": [
    "import pickle\n",
    "with open(os.path.join(ROOT, 'out', 'pairs_top3_BelleNet.pkl'), 'wb') as f:\n",
    "    pickle.dump(pairs, f)"
   ]
  },
  {
   "cell_type": "code",
   "execution_count": 10,
   "metadata": {
    "collapsed": false
   },
   "outputs": [],
   "source": [
    "pca_2016_df = pd.DataFrame(pca_2016, index=index16, columns=['cnn_' + str(i) for i in range(pca_2016.shape[1])])\n",
    "pca_2017_df = pd.DataFrame(pca_2017, index=index17, columns=['cnn_' + str(i) for i in range(pca_2017.shape[1])])"
   ]
  },
  {
   "cell_type": "code",
   "execution_count": 11,
   "metadata": {
    "collapsed": true
   },
   "outputs": [],
   "source": [
    "pca_2016_df.to_csv(os.path.join('/Users/shouzeluo/Desktop/Belle/data/', 'pca_2016_df.csv'))\n",
    "pca_2017_df.to_csv(os.path.join('/Users/shouzeluo/Desktop/Belle/data/', 'pca_2017_df.csv'))"
   ]
  },
  {
   "cell_type": "code",
   "execution_count": 10,
   "metadata": {
    "collapsed": false
   },
   "outputs": [],
   "source": [
    "import os\n",
    "\n",
    "img_root = '/Users/shouzeluo/Desktop/imgs'\n",
    "\n",
    "def rename_img(img_root, year):\n",
    "    dir_name = os.path.join(img_root, '{}png'.format(year))\n",
    "    ref_file = os.path.join(img_root, '{}.csv'.format(year))\n",
    "    k = np.loadtxt(ref_file, dtype=[('code', 'S14'),('val', int)],  delimiter=',', encoding='utf8')\n",
    "    \n",
    "    for code, i in k:\n",
    "        os.rename(os.path.join(img_root, '{}png'.format(year), '2017png-{:d}.png'.format(i)), \n",
    "                 os.path.join(img_root, '{}png'.format(year), '{}.png'.format(code)))\n",
    "    "
   ]
  },
  {
   "cell_type": "code",
   "execution_count": 8,
   "metadata": {
    "code_folding": [],
    "collapsed": true
   },
   "outputs": [],
   "source": [
    "def show_img(base, chosens):\n",
    "    fig = plt.figure(figsize=(12,6))\n",
    "    cols = len(chosens) + 1\n",
    "    for i, f in enumerate([base]+chosens):\n",
    "        img = plt.imread(f)\n",
    "        ax = fig.add_subplot(1, cols, i+1)\n",
    "        ax.set_xticks([]), ax.set_yticks([])\n",
    "        ax.imshow(img)\n",
    "\n",
    "def gen_feature(model, img_list): \n",
    "\n",
    "    imgs = []\n",
    "    for img_path in img_list:\n",
    "        img = image.load_img(img_path, target_size=(224, 224))\n",
    "        x = image.img_to_array(img)\n",
    "        x = np.expand_dims(x, axis=0)\n",
    "        imgs.append(x)\n",
    "\n",
    "    imgs = np.concatenate(imgs, 0)\n",
    "    imgs = preprocess_input(imgs)\n",
    "    imgs /= 255.\n",
    "    \n",
    "#     test_datagen = image.ImageDataGenerator( rescale=1./255)\n",
    "    \n",
    "    features = model.predict(imgs)\n",
    "    features = features.reshape(features.shape[0], -1)\n",
    "    \n",
    "    return features\n",
    "\n"
   ]
  },
  {
   "cell_type": "code",
   "execution_count": 20,
   "metadata": {},
   "outputs": [],
   "source": [
    "year_range = lambda x : (12, 14+(2 if x > 3 else 10))"
   ]
  },
  {
   "cell_type": "code",
   "execution_count": 22,
   "metadata": {},
   "outputs": [
    {
     "data": {
      "text/plain": [
       "(12, 24)"
      ]
     },
     "execution_count": 22,
     "metadata": {},
     "output_type": "execute_result"
    }
   ],
   "source": [
    "year_range(0)"
   ]
  },
  {
   "cell_type": "code",
   "execution_count": null,
   "metadata": {},
   "outputs": [],
   "source": []
  }
 ],
 "metadata": {
  "kernelspec": {
   "display_name": "Python 3",
   "language": "python",
   "name": "python3"
  },
  "language_info": {
   "codemirror_mode": {
    "name": "ipython",
    "version": 3
   },
   "file_extension": ".py",
   "mimetype": "text/x-python",
   "name": "python",
   "nbconvert_exporter": "python",
   "pygments_lexer": "ipython3",
   "version": "3.6.4"
  }
 },
 "nbformat": 4,
 "nbformat_minor": 2
}
