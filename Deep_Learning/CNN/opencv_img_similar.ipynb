{
 "cells": [
  {
   "cell_type": "code",
   "execution_count": 1,
   "metadata": {
    "collapsed": false
   },
   "outputs": [],
   "source": [
    "import pandas as pd\n",
    "import cv2\n",
    "import numpy as np\n",
    "import os.path\n",
    "import matplotlib.pyplot as plt"
   ]
  },
  {
   "cell_type": "code",
   "execution_count": 11,
   "metadata": {
    "collapsed": true
   },
   "outputs": [],
   "source": [
    "ROOT = '/Users/shouzeluo/Desktop/Belle/data/imgs/'\n",
    "\n",
    "file_list = np.asarray([f for f in os.listdir(ROOT) if f.endswith('png')])"
   ]
  },
  {
   "cell_type": "code",
   "execution_count": 3,
   "metadata": {
    "collapsed": false
   },
   "outputs": [
    {
     "data": {
      "text/plain": [
       "'SJK08100DL2BH6.png'"
      ]
     },
     "execution_count": 3,
     "metadata": {},
     "output_type": "execute_result"
    }
   ],
   "source": [
    "img0=cv2.imread(os.path.join(ROOT, 'SJK08100DM1BH6.png'))\n",
    "\n",
    "H1 = cv2.calcHist([img0], [0], None, [256], [0, 256])\n",
    "H1=cv2.normalize(H1,H1,0,1,cv2.NORM_MINMAX,-1)\n",
    "\n",
    "dist = []\n",
    "\n",
    "for f in file_list:\n",
    "    img = cv2.imread(os.path.join(ROOT, f))\n",
    "    tmp = cv2.calcHist([img], [0], None, [256], [0, 256])\n",
    "    tmp = cv2.normalize(tmp,tmp,0,1,cv2.NORM_MINMAX,-1)\n",
    "    similarity = cv2.compareHist(H1,tmp,0)\n",
    "    dist.append(similarity)\n",
    "\n",
    "dist = np.asarray(dist)\n",
    "file_name = file_list[dist.argpartition(-2)[-2]]\n",
    "file_name"
   ]
  },
  {
   "cell_type": "code",
   "execution_count": 16,
   "metadata": {
    "collapsed": true
   },
   "outputs": [],
   "source": [
    "\n",
    "\n",
    "class CompareImage(object):\n",
    "\n",
    "    def __init__(self, image_1_path, image_2_path):\n",
    "        self.minimum_commutative_image_diff = 0.25\n",
    "        self.image_1_path = image_1_path\n",
    "        self.image_2_path = image_2_path\n",
    "\n",
    "    def compare_image(self):\n",
    "        image_1 = cv2.imread(self.image_1_path, 0)\n",
    "        image_2 = cv2.imread(self.image_2_path, 0)\n",
    "        img_hist_diff, img_template_diff, commutative_image_diff = self.get_image_difference(image_1, image_2)\n",
    "\n",
    "#         if img_hist_diff<0.3 and img_template_diff<0.3:\n",
    "#             if commutative_image_diff < self.minimum_commutative_image_diff:\n",
    "#                 print(\"Matched\")\n",
    "#                 return commutative_image_diff\n",
    "        return commutative_image_diff # random failure value\n",
    "\n",
    "    @staticmethod\n",
    "    def get_image_difference(image_1, image_2):\n",
    "        first_image_hist = cv2.calcHist([image_1], [0], None, [256], [0, 256])\n",
    "        second_image_hist = cv2.calcHist([image_2], [0], None, [256], [0, 256])\n",
    "\n",
    "        img_hist_diff = 1-cv2.compareHist(first_image_hist, second_image_hist,0)\n",
    "        img_template_probability_match = cv2.matchTemplate(first_image_hist, second_image_hist, cv2.TM_CCOEFF_NORMED)[0][0]\n",
    "        img_template_diff = 1 - img_template_probability_match\n",
    "\n",
    "        # taking only 10% of histogram diff, since it's less accurate than template method\n",
    "        commutative_image_diff = (img_hist_diff / 10) + img_template_diff\n",
    "        return [img_hist_diff,img_template_diff,commutative_image_diff]\n",
    "\n",
    "\n",
    "\n",
    "    "
   ]
  },
  {
   "cell_type": "code",
   "execution_count": 21,
   "metadata": {
    "collapsed": false
   },
   "outputs": [],
   "source": [
    "p1 = os.path.join(ROOT, 'SJK01500DQ1AM6.png')\n",
    "dist = []\n",
    "for f in file_list:\n",
    "    p2 = os.path.join(ROOT, f)\n",
    "\n",
    "    compare_image = CompareImage(p1, p2)\n",
    "    image_difference = compare_image.compare_image()\n",
    "    dist.append(image_difference)"
   ]
  },
  {
   "cell_type": "code",
   "execution_count": 22,
   "metadata": {
    "collapsed": false
   },
   "outputs": [
    {
     "data": {
      "text/plain": [
       "array(['SJK01500DQ1AM6.png', 'SJK11600DM1BK6.png', 'SJK01500DB1AM6.png',\n",
       "       'SJK08100DP2BH6.png', 'SJK11600DP1BK6.png', 'SJK08100DB1BH6.png',\n",
       "       'S79E5101DM1AM6.png', 'SJK08100DM2BH6.png', 'SC5C9101DL1AM6.png',\n",
       "       'S79E5101DL5AM6.png', 'S79E5101DM5AM6.png', 'SJK08100DL2BH6.png',\n",
       "       'SJK18400DK1BH6.png', 'SJK08100DM1BH6.png', 'SC5C9101DU1AM6.png',\n",
       "       'SJK18400DM1BH6.png', 'SJK08100DQ1BH6.png', 'SC5C9101DP2AM6.png'],\n",
       "      dtype='|S18')"
      ]
     },
     "execution_count": 22,
     "metadata": {},
     "output_type": "execute_result"
    }
   ],
   "source": [
    "dist = np.asarray(dist)\n",
    "file_list[dist.argsort()]"
   ]
  },
  {
   "cell_type": "code",
   "execution_count": null,
   "metadata": {
    "collapsed": true
   },
   "outputs": [],
   "source": []
  },
  {
   "cell_type": "code",
   "execution_count": null,
   "metadata": {
    "collapsed": true
   },
   "outputs": [],
   "source": []
  }
 ],
 "metadata": {
  "kernelspec": {
   "display_name": "Python 2",
   "language": "python",
   "name": "python2"
  },
  "language_info": {
   "codemirror_mode": {
    "name": "ipython",
    "version": 2
   },
   "file_extension": ".py",
   "mimetype": "text/x-python",
   "name": "python",
   "nbconvert_exporter": "python",
   "pygments_lexer": "ipython2",
   "version": "2.7.11"
  }
 },
 "nbformat": 4,
 "nbformat_minor": 0
}
